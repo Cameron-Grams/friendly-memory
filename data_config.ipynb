{
 "cells": [
  {
   "cell_type": "code",
   "execution_count": 1,
   "id": "bbc3b7f7-0ec3-4d85-a7ed-d760799e918c",
   "metadata": {},
   "outputs": [],
   "source": [
    "import pandas as pd\n",
    "import numpy as np\n",
    "import os\n",
    "from PIL import Image\n",
    "import utils"
   ]
  },
  {
   "cell_type": "code",
   "execution_count": 2,
   "id": "024fcf83-5cd0-461e-9f3e-681fa2145219",
   "metadata": {},
   "outputs": [],
   "source": [
    "train_base_path = \"./data/train/\""
   ]
  },
  {
   "cell_type": "code",
   "execution_count": 3,
   "id": "6fdd6ec2-ee44-4dc3-839e-808b2d6fc166",
   "metadata": {},
   "outputs": [],
   "source": [
    "val_base_path = \"./data/val\""
   ]
  },
  {
   "cell_type": "markdown",
   "id": "323733ef-8194-4979-8d45-ad540e8caeb7",
   "metadata": {},
   "source": [
    "# 1. Determine average size\n",
    "Across all classes "
   ]
  },
  {
   "cell_type": "code",
   "execution_count": 4,
   "id": "9df7e24f-74ae-4b34-8cd2-3ec1c06544e7",
   "metadata": {},
   "outputs": [],
   "source": [
    "all_image_classes = ['0', '1', '2', '3', '4', '5', '6']"
   ]
  },
  {
   "cell_type": "code",
   "execution_count": 5,
   "id": "68ed44d6-8161-4f12-8895-713d998d8286",
   "metadata": {},
   "outputs": [],
   "source": [
    "# collected_sizes = []"
   ]
  },
  {
   "cell_type": "code",
   "execution_count": 6,
   "id": "1b28b197-93a8-4032-873a-5712a669521d",
   "metadata": {},
   "outputs": [],
   "source": [
    "# %%time \n",
    "# for image_class in all_image_classes:\n",
    "#     image_path = train_base_path + image_class\n",
    "#     average_image_size = utils.obtain_average_size(image_path)\n",
    "#     collected_sizes.append(average_image_size)"
   ]
  },
  {
   "cell_type": "code",
   "execution_count": 7,
   "id": "3b249172-798d-4360-9a8d-9c6251bf97d8",
   "metadata": {},
   "outputs": [],
   "source": [
    "#collected_sizes"
   ]
  },
  {
   "cell_type": "code",
   "execution_count": 8,
   "id": "1c1e0ea0-ac43-4407-a68d-c03bc61f546a",
   "metadata": {},
   "outputs": [],
   "source": [
    "# average_width = np.average([field[0] for field in collected_sizes])\n",
    "# average_height = np.average([field[1] for field in collected_sizes])"
   ]
  },
  {
   "cell_type": "code",
   "execution_count": 9,
   "id": "16db027c-1e92-47b7-abf1-f8638527f0ac",
   "metadata": {},
   "outputs": [],
   "source": [
    "# verage_width, average_height"
   ]
  },
  {
   "cell_type": "code",
   "execution_count": 10,
   "id": "ffd892e2-4137-478f-ad59-4ceecf7b36ba",
   "metadata": {},
   "outputs": [],
   "source": [
    "# work with (500, 500)\n",
    "target_size = (500, 500)"
   ]
  },
  {
   "cell_type": "markdown",
   "id": "9c62dcdf-36d1-4e13-8e31-83b0e79a4e5d",
   "metadata": {},
   "source": [
    "# 2. Build CSV"
   ]
  },
  {
   "cell_type": "code",
   "execution_count": 11,
   "id": "d59fde27-4bf3-4653-a4f0-a90380a4b1c0",
   "metadata": {},
   "outputs": [],
   "source": [
    "all_image_classes = ['0', '1', '2', '3', '4', '5', '6']"
   ]
  },
  {
   "cell_type": "code",
   "execution_count": 12,
   "id": "6d249f9f-ec9f-4f7c-806f-75af3abaea8d",
   "metadata": {},
   "outputs": [],
   "source": [
    "inventory = []\n",
    "class_names = []\n",
    "pixel_values = []"
   ]
  },
  {
   "cell_type": "code",
   "execution_count": 13,
   "id": "c8e8f17d-b472-4c19-8bde-6b62f031c671",
   "metadata": {},
   "outputs": [
    {
     "name": "stdout",
     "output_type": "stream",
     "text": [
      "CPU times: user 30min 26s, sys: 2min 43s, total: 33min 9s\n",
      "Wall time: 50min 45s\n"
     ]
    }
   ],
   "source": [
    "%%time\n",
    "for image_class in all_image_classes:\n",
    "    class_names = []\n",
    "    pixel_values = []\n",
    "    pixel_strings = []\n",
    "    current_class = os.path.join(train_base_path, image_class)\n",
    "    images = os.listdir(current_class)\n",
    "    inventory.append(len(images))\n",
    "    for image in images:\n",
    "        try:\n",
    "            image_path = os.path.join(current_class, image)\n",
    "            pixels = utils.pixel_values(image_path, target_size)\n",
    "            pixel_values.append(pixels[0])\n",
    "            pixel_strings.append(pixels[1])\n",
    "            class_names.append(image_class)\n",
    "        except:\n",
    "            continue\n",
    "    df = pd.DataFrame({\"classes\": class_names, \"pixel_values\": pixel_values, \"pixel_strings\": pixel_strings})\n",
    "    df.to_csv(f\"csv_class_{image_class}.csv\", index=False)"
   ]
  },
  {
   "cell_type": "code",
   "execution_count": 14,
   "id": "b2cd54e9-b5ae-4971-bb1e-da534e2a263b",
   "metadata": {},
   "outputs": [
    {
     "data": {
      "text/plain": [
       "([74874, 134415, 25459, 14090, 6378, 3803, 24882], 283901)"
      ]
     },
     "execution_count": 14,
     "metadata": {},
     "output_type": "execute_result"
    }
   ],
   "source": [
    "inventory, sum(inventory)"
   ]
  },
  {
   "cell_type": "code",
   "execution_count": 15,
   "id": "834a4a68-f549-4aa2-95c4-3ebe2ccc7676",
   "metadata": {},
   "outputs": [
    {
     "data": {
      "text/plain": [
       "(24882, 24882, 24882)"
      ]
     },
     "execution_count": 15,
     "metadata": {},
     "output_type": "execute_result"
    }
   ],
   "source": [
    "len(pixel_values), len(pixel_strings), len(class_names)"
   ]
  },
  {
   "cell_type": "code",
   "execution_count": null,
   "id": "609aec77-7b7f-4d12-9241-16dc14a100e0",
   "metadata": {},
   "outputs": [],
   "source": []
  },
  {
   "cell_type": "code",
   "execution_count": null,
   "id": "7d9d3e9b-7e90-4729-9587-f56a3d40030d",
   "metadata": {},
   "outputs": [],
   "source": []
  },
  {
   "cell_type": "code",
   "execution_count": 16,
   "id": "9f42461d-e844-45e5-868e-4f45eb9599f1",
   "metadata": {},
   "outputs": [],
   "source": [
    "# image_class_path = train_base_path + all_image_classes[0]\n",
    "# test_images = os.listdir(image_class_path)[:5]\n",
    "# test_images"
   ]
  },
  {
   "cell_type": "code",
   "execution_count": 17,
   "id": "8490cf3c-7730-4cfc-92f4-05d8645fe869",
   "metadata": {},
   "outputs": [],
   "source": [
    "# pixel_arrays = []\n",
    "# for image in test_images:\n",
    "#     image_path = image_class_path + \"/\" + image\n",
    "#     pixel_tuple = utils.pixel_values(image_path, target_size)\n",
    "#     pixel_arrays.append(pixel_tuple)"
   ]
  },
  {
   "cell_type": "code",
   "execution_count": 18,
   "id": "084f698e-5d78-491c-95d7-e714c20689e6",
   "metadata": {},
   "outputs": [],
   "source": [
    "#len(pixel_arrays)"
   ]
  },
  {
   "cell_type": "code",
   "execution_count": null,
   "id": "f99ff706-82cd-4d30-b8dd-4ed9ac351c99",
   "metadata": {},
   "outputs": [],
   "source": []
  },
  {
   "cell_type": "code",
   "execution_count": null,
   "id": "1eacddf3-190e-4e13-93dc-7dd4e566ec1a",
   "metadata": {},
   "outputs": [],
   "source": []
  },
  {
   "cell_type": "code",
   "execution_count": null,
   "id": "a046cf7e-edf3-43e3-9662-bc3d5f893ff1",
   "metadata": {},
   "outputs": [],
   "source": []
  },
  {
   "cell_type": "code",
   "execution_count": null,
   "id": "73e81967-2110-4106-a0f5-c3b2d80e1aa5",
   "metadata": {},
   "outputs": [],
   "source": []
  }
 ],
 "metadata": {
  "kernelspec": {
   "display_name": "Python 3 (ipykernel)",
   "language": "python",
   "name": "python3"
  },
  "language_info": {
   "codemirror_mode": {
    "name": "ipython",
    "version": 3
   },
   "file_extension": ".py",
   "mimetype": "text/x-python",
   "name": "python",
   "nbconvert_exporter": "python",
   "pygments_lexer": "ipython3",
   "version": "3.11.7"
  }
 },
 "nbformat": 4,
 "nbformat_minor": 5
}
